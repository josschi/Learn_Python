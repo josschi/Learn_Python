{
 "cells": [
  {
   "cell_type": "markdown",
   "metadata": {},
   "source": [
    "## Some tips when working with Python"
   ]
  },
  {
   "cell_type": "code",
   "execution_count": 2,
   "metadata": {},
   "outputs": [
    {
     "name": "stdout",
     "output_type": "stream",
     "text": [
      "python\n"
     ]
    }
   ],
   "source": [
    "#1. concatenating string \n",
    "\n",
    "\"\"\"\n",
    "Cuando necesite concatenar una lista de cadenas, puede hacerlo utilizando un bucle for agregando cada elemento uno por uno.\n",
    "Sin embargo, esto sería muy ineficiente, especialmente si la lista es larga. En Python, las cadenas son inmutables y, \n",
    "por lo tanto, las cadenas izquierda y derecha tendrían que copiarse en la nueva cadena para cada par de concatenación.\n",
    "Un mejor enfoque es usar la join()función como se muestra a continuación:\n",
    "\"\"\"\n",
    "\n",
    "characters = ['p','y','t','h','o','n']\n",
    "word = \"\".join(characters)\n",
    "print(word) #python"
   ]
  },
  {
   "cell_type": "code",
   "execution_count": 3,
   "metadata": {},
   "outputs": [
    {
     "name": "stdout",
     "output_type": "stream",
     "text": [
      "[0, 1, 4, 9, 16]\n",
      "[2, 3, 4]\n"
     ]
    }
   ],
   "source": [
    "#2. Using list comprehesions\n",
    "\"\"\"\n",
    "Las comprensiones de listas se utilizan para crear nuevas listas a partir de otros iterables. Como las comprensiones \n",
    "de listas devuelven listas, consisten en corchetes que contienen la expresión, que se ejecuta para cada elemento junto \n",
    "con el ciclo for para iterar sobre cada elemento. La comprensión de la lista es más rápida porque está optimizada para \n",
    "que el intérprete de Python detecte un patrón predecible durante el bucle.\n",
    "Como ejemplo, encontremos los cuadrados de los primeros cinco números enteros usando las comprensiones de listas.\n",
    "\"\"\"\n",
    "\n",
    "\n",
    "m = [x**2 for x in range(5)]\n",
    "m #print elements of array\n",
    "print(m) #[0,1,4,9,16]\n",
    "\n",
    "#Ahora busquemos los números comunes de dos listas usando la comprensión de listas\n",
    "list_a = [1, 2, 3, 4]\n",
    "list_b = [2, 3, 4, 5]\n",
    "common_num = [a for a in list_a for b in list_b if a == b]\n",
    "print(common_num) #[2,3,4]"
   ]
  },
  {
   "cell_type": "code",
   "execution_count": 4,
   "metadata": {},
   "outputs": [
    {
     "name": "stdout",
     "output_type": "stream",
     "text": [
      "['fizzbuzz', 'fizz', 28, 'buzz', 'fizzbuzz']\n"
     ]
    }
   ],
   "source": [
    "#3. Iterate with\n",
    "\"\"\"\n",
    "El método Enumerate () agrega un contador a un iterable y lo devuelve en forma de objeto enumerar.\n",
    "Resolvamos la clásica pregunta de entrevista de codificación denominada popularmente como el problema de Fizz Buzz.\n",
    "Escriba un programa que imprima los números en una lista, para los múltiplos de '3' imprima \"fizz\" en lugar del número, \n",
    "para los múltiplos de '5' imprima \"buzz\" y para los múltiplos de 3 y 5 imprima \"fizzbuzz\" .\n",
    "\"\"\"\n",
    "\n",
    "numbers = [30, 42, 28, 50, 15]\n",
    "for i, num in enumerate(numbers):\n",
    "    if num % 3 == 0 and num % 5 == 0:\n",
    "        numbers[i] = 'fizzbuzz'\n",
    "    elif num % 3 == 0:\n",
    "        numbers[i] = 'fizz'\n",
    "    elif num % 5 == 0:\n",
    "        numbers[i] = 'buzz'\n",
    "print(numbers) # ['fizzbuzz', 'fizz', 28, 'buzz','fizzbuzz']\n"
   ]
  },
  {
   "cell_type": "code",
   "execution_count": 5,
   "metadata": {},
   "outputs": [
    {
     "name": "stdout",
     "output_type": "stream",
     "text": [
      "France Paris\n",
      "Germany Berlin\n",
      "Canada Ottawa\n",
      "a veces tenemos que ir bien\n"
     ]
    }
   ],
   "source": [
    "#4. ZIP\n",
    "\n",
    "\"\"\"\n",
    "¿Suponga que se le asignó la tarea de combinar varias listas con la misma longitud e imprimir el resultado? Una vez más, \n",
    "aquí hay una forma más genérica de obtener el resultado deseado utilizando zip()como se muestra en el siguiente código:\n",
    "\"\"\"\n",
    "import numpy as np\n",
    "countries = ['France', 'Germany', 'Canada']\n",
    "capitals = ['Paris', 'Berlin', 'Ottawa']\n",
    "for country, capital in zip(countries,capitals):\n",
    "    print(country, capital)\n",
    "\n",
    "#France Paris\n",
    "#Germany Berlin\n",
    "#Canada Ottawa\n",
    "\n",
    "print(\"a veces tenemos que ir bien\")"
   ]
  }
 ],
 "metadata": {
  "kernelspec": {
   "display_name": "Python 3",
   "language": "python",
   "name": "python3"
  },
  "language_info": {
   "codemirror_mode": {
    "name": "ipython",
    "version": 3
   },
   "file_extension": ".py",
   "mimetype": "text/x-python",
   "name": "python",
   "nbconvert_exporter": "python",
   "pygments_lexer": "ipython3",
   "version": "3.7.4"
  }
 },
 "nbformat": 4,
 "nbformat_minor": 2
}
