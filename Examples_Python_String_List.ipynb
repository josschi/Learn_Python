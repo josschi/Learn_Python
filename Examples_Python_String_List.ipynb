{
 "cells": [
  {
   "cell_type": "markdown",
   "metadata": {},
   "source": [
    "## Working with String"
   ]
  },
  {
   "cell_type": "code",
   "execution_count": 1,
   "metadata": {},
   "outputs": [
    {
     "name": "stdout",
     "output_type": "stream",
     "text": [
      "Ada Lovelace\n",
      "ADA LOVELACE\n",
      "ada lovelace\n",
      "ada lovelace\n",
      "Hello, Ada Lovelace!\n",
      "Hello, Ada Lovelace!\n"
     ]
    }
   ],
   "source": [
    "#Changing Case in a String with Methods\n",
    "\n",
    "name=\"ada lovelace\"\n",
    "print(name.title())\n",
    "print(name.upper())\n",
    "print(name.lower())\n",
    "\n",
    "# Using variables in String\n",
    "# the f is for format\n",
    "first_name=\"ada\"\n",
    "last_name=\"lovelace\"\n",
    "full_name=f\"{first_name} {last_name}\"\n",
    "print(full_name) # ada lovelace\n",
    "\n",
    "print(f\"Hello, {full_name.title()}!\") #Hello, Ada Lovalce!\n",
    "\n",
    "message=f\"Hello, {full_name.title()}!\"\n",
    "print(message) ##Hello, Ada Lovalce!"
   ]
  },
  {
   "cell_type": "code",
   "execution_count": 2,
   "metadata": {},
   "outputs": [
    {
     "name": "stdout",
     "output_type": "stream",
     "text": [
      "Languages:\n",
      "Python\n",
      "C\n",
      "JavaScript\n",
      "Languages:\n",
      "\tPython\n",
      "\tC\n",
      "\tJavaScript\n"
     ]
    },
    {
     "data": {
      "text/plain": [
       "['python', 'is', 'the', 'best']"
      ]
     },
     "execution_count": 2,
     "metadata": {},
     "output_type": "execute_result"
    }
   ],
   "source": [
    "# Adding Whitespace to Strings with Tabs or Newlines\n",
    "print(\"Languages:\\nPython\\nC\\nJavaScript\")\n",
    "print(\"Languages:\\n\\tPython\\n\\tC\\n\\tJavaScript\")\n",
    "\n",
    "favorite_language=\"python is the best \"\n",
    "favorite_language\n",
    "favorite_language.rsplit()"
   ]
  },
  {
   "cell_type": "code",
   "execution_count": 5,
   "metadata": {},
   "outputs": [
    {
     "data": {
      "text/plain": [
       "['trek', 'cannondadle', 'redline', 'specialized']"
      ]
     },
     "execution_count": 5,
     "metadata": {},
     "output_type": "execute_result"
    }
   ],
   "source": [
    "import this\n",
    "\n",
    "# what is a list?\n",
    "\"\"\"\n",
    "A list is a collection of items in a particular order. You can make a list that\n",
    "includes the letters of the alphabet, the digits from 0–9, or the names of\n",
    "all the people in your family. You can put anything you want into a list, and\n",
    "the items in your list don’t have to be related in any particular way.\n",
    "\"\"\"\n",
    "bicycles = ['trek','cannondadle','redline','specialized']\n",
    "bicycles\n",
    "#print(bicycles)"
   ]
  },
  {
   "cell_type": "code",
   "execution_count": 8,
   "metadata": {},
   "outputs": [
    {
     "name": "stdout",
     "output_type": "stream",
     "text": [
      "cannondadle\n",
      "redline\n",
      "specialized\n",
      "redline\n"
     ]
    }
   ],
   "source": [
    "#Accessing Elements in a List\n",
    "print(bicycles[1])\n",
    "print(bicycles[2])\n",
    "print(bicycles[-1]) #se usa cuando desconce el tamaño de la lista, -1 accede al ultimo item\n",
    "print(bicycles[-2]) #se usa cuando desconce el tamaño de la lista, -2 accede al penultimo item"
   ]
  },
  {
   "cell_type": "code",
   "execution_count": 9,
   "metadata": {},
   "outputs": [
    {
     "name": "stdout",
     "output_type": "stream",
     "text": [
      "My first bicycle was a Trek.\n"
     ]
    }
   ],
   "source": [
    "# Using Individual Values from a List\n",
    "message3=f\"My first bicycle was a {bicycles[0].title()}.\"\n",
    "print(message3)"
   ]
  },
  {
   "cell_type": "code",
   "execution_count": 10,
   "metadata": {},
   "outputs": [
    {
     "name": "stdout",
     "output_type": "stream",
     "text": [
      "['honda', 'yamaha', 'suzuki']\n",
      "['honda', 'ducati', 'suzuki']\n"
     ]
    }
   ],
   "source": [
    "#Modifying Elements in a List\n",
    "motorcycles = ['honda', 'yamaha', 'suzuki']\n",
    "print(motorcycles)\n",
    "motorcycles[1] = 'ducati'\n",
    "print(motorcycles)"
   ]
  },
  {
   "cell_type": "code",
   "execution_count": 11,
   "metadata": {},
   "outputs": [
    {
     "name": "stdout",
     "output_type": "stream",
     "text": [
      "['honda', 'yamaha', 'suzuki']\n",
      "['honda', 'yamaha', 'suzuki', 'ducati']\n"
     ]
    }
   ],
   "source": [
    "# Appending Elements to the End of a List\n",
    "\"\"\"\n",
    "The append() method makes it easy to build lists dynamically. For\n",
    "example, you can start with an empty list and then add items to the list\n",
    "usin#Inserting Elements into a List\n",
    "motorcycles3=['honda','yamaha','ferrari']\n",
    "motorcycles3.insert(0, 'ABS')\n",
    "print(motorcycles3) #['ABS', 'honda', 'yamaha', 'ferrari']g a series of append() calls. Using an empty list, let’s add the elements\n",
    "'honda', 'yamaha', and 'suzuki' to the list:\n",
    "\"\"\"\n",
    "motorcycles = ['honda', 'yamaha', 'suzuki']\n",
    "print(motorcycles)\n",
    "motorcycles.append('ducati')\n",
    "print(motorcycles)"
   ]
  },
  {
   "cell_type": "code",
   "execution_count": 13,
   "metadata": {},
   "outputs": [
    {
     "name": "stdout",
     "output_type": "stream",
     "text": [
      "['honda', 'yamaha', 'ferrari']\n"
     ]
    }
   ],
   "source": [
    "#Removing Elements from a List\n",
    "\n",
    "del motorcycles3[0]\n",
    "print(motorcycles3) #['honda', 'yamaha', 'ferrari']"
   ]
  },
  {
   "cell_type": "code",
   "execution_count": 15,
   "metadata": {},
   "outputs": [
    {
     "name": "stdout",
     "output_type": "stream",
     "text": [
      "['ABS', 'honda', 'yamaha', 'ferrari']\n"
     ]
    }
   ],
   "source": [
    "#Inserting Elements into a List\n",
    "motorcycles3=['honda','yamaha','ferrari']\n",
    "motorcycles3.insert(0, 'ABS')\n",
    "print(motorcycles3) #['ABS', 'honda', 'yamaha', 'ferrari']"
   ]
  },
  {
   "cell_type": "code",
   "execution_count": 16,
   "metadata": {},
   "outputs": [
    {
     "name": "stdout",
     "output_type": "stream",
     "text": [
      "['honda', 'yamaha', 'ferrari']\n"
     ]
    }
   ],
   "source": [
    "#Removing Elements from a List\n",
    "\n",
    "del motorcycles3[0]\n",
    "print(motorcycles3) #['honda', 'yamaha', 'ferrari']"
   ]
  },
  {
   "cell_type": "code",
   "execution_count": 17,
   "metadata": {},
   "outputs": [
    {
     "name": "stdout",
     "output_type": "stream",
     "text": [
      "ferrari\n"
     ]
    },
    {
     "data": {
      "text/plain": [
       "['honda', 'yamaha']"
      ]
     },
     "execution_count": 17,
     "metadata": {},
     "output_type": "execute_result"
    }
   ],
   "source": [
    "# Removing an Item Using the pop() Method\n",
    "print(motorcycles3.pop())  #The pop() method removes the last item in a list\n",
    "motorcycles3\n",
    "# ['honda', 'yamaha']"
   ]
  },
  {
   "cell_type": "code",
   "execution_count": 18,
   "metadata": {},
   "outputs": [
    {
     "name": "stdout",
     "output_type": "stream",
     "text": [
      "['ABS', 'honda', 'ferrari']\n",
      "the third motorcycle I ownws was a Yamaha.\n"
     ]
    }
   ],
   "source": [
    "\"\"\"\n",
    "Popping Items from any Position in a List\n",
    "You can use pop() to remove an item from any position in a list by including\n",
    "the index of the item you want to remove in parentheses.\n",
    "\"\"\"\n",
    "motorcycles4=['ABS', 'honda', 'yamaha', 'ferrari']\n",
    "delmoto=motorcycles4.pop(2)\n",
    "print(motorcycles4)\n",
    "print(f\"the third motorcycle I ownws was a {delmoto.title()}.\")"
   ]
  },
  {
   "cell_type": "code",
   "execution_count": 19,
   "metadata": {},
   "outputs": [
    {
     "name": "stdout",
     "output_type": "stream",
     "text": [
      "['honda', 'yamaha', 'suzuki', 'ducati']\n",
      "['honda', 'yamaha', 'suzuki']\n"
     ]
    }
   ],
   "source": [
    "#Removing an Item by Value\n",
    "motorcycles5 = ['honda', 'yamaha', 'suzuki', 'ducati']\n",
    "print(motorcycles5)\n",
    "motorcycles5.remove('ducati')\n",
    "print(motorcycles5)"
   ]
  }
 ],
 "metadata": {
  "kernelspec": {
   "display_name": "Python 3",
   "language": "python",
   "name": "python3"
  },
  "language_info": {
   "codemirror_mode": {
    "name": "ipython",
    "version": 3
   },
   "file_extension": ".py",
   "mimetype": "text/x-python",
   "name": "python",
   "nbconvert_exporter": "python",
   "pygments_lexer": "ipython3",
   "version": "3.7.4"
  }
 },
 "nbformat": 4,
 "nbformat_minor": 2
}
